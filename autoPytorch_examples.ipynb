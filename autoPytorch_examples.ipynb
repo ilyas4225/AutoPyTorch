{
 "cells": [
  {
   "cell_type": "markdown",
   "metadata": {},
   "source": [
    "# Tabular Classification of digits data"
   ]
  },
  {
   "cell_type": "code",
   "execution_count": null,
   "metadata": {},
   "outputs": [],
   "source": [
    "from autoPyTorch.api.tabular_classification import TabularClassificationTask\n",

    "import sklearn.model_selection\n",
    "import sklearn.datasets\n",
    "import sklearn.metrics"
   ]
  },
  {
   "cell_type": "code",
   "execution_count": null,
   "metadata": {},
   "outputs": [],
   "source": [
    "X, y = sklearn.datasets.load_digits(return_X_y=True)\n",
    "X_train, X_test, y_train, y_test = \\\n",
    "        sklearn.model_selection.train_test_split(X, y, random_state=1)"
   ]
  },
  {
   "cell_type": "code",
   "execution_count": null,
   "metadata": {},
   "outputs": [],
   "source": [
    "# initialise Auto-PyTorch api\n",
    "api = TabularClassificationTask()"
   ]
  },
  {
   "cell_type": "code",
   "execution_count": null,
   "metadata": {},
   "outputs": [],
   "source": [
    "# Search for an ensemble of machine learning algorithms\n",
    "api.search(\n",
    "    X_train=X_train,\n",
    "    y_train=y_train,\n",
    "    X_test=X_test,\n",
    "    y_test=y_test,\n",
    "    optimize_metric='accuracy',\n",
    "    total_walltime_limit=300,\n",
    "    func_eval_time_limit_secs=50\n",
    ")"
   ]
  },
  {
   "cell_type": "code",
   "execution_count": 16,
   "metadata": {
    "colab": {
     "base_uri": "https://localhost:8080/"
    },
    "id": "uJCCNRuUBqR6",
    "outputId": "78b3497e-cfa4-43fa-91b4-3f1a2a47d379"
   },
   "outputs": [
    {
     "name": "stdout",
     "output_type": "stream",
     "text": [
      "[ERROR] [2023-04-04 06:56:54,609:Client-AutoPyTorch:ce276654-d2b5-11ed-80d8-0242ac1c000c:1] Prediction for catboost failed with run state StatusType.CRASHED,\n",
      "because the provided memory limits were too tight.\n",
      "Please increase the 'ml_memory_limit' and try again.\n",
      "If you still get the problem, please open an issue\n",
      "and paste the additional info.\n",
      "Additional info:\n",
      "error: Result queue is empty\n",
      "exit_status: <class 'pynisher.limit_function_call.AnythingException'>\n",
      "subprocess_stdout: \n",
      "subprocess_stderr: \n",
      "exitcode: -6\n",
      "configuration_origin: traditional\n"
     ]
    },
    {
     "name": "stderr",
     "output_type": "stream",
     "text": [
      "/usr/local/lib/python3.9/dist-packages/smac/intensification/parallel_scheduling.py:154: UserWarning: Hyperband is executed with 1 workers only. Consider to use pynisher to use all available workers.\n",
      "  warnings.warn(\n"
     ]
    },
    {
     "name": "stdout",
     "output_type": "stream",
     "text": [
      "Accuracy score {'accuracy': 0.9844444444444445}\n"
     ]
    }
   ],
   "source": [
    "# Calculate test accuracy\n",
    "y_pred = api.predict(X_test)\n",
    "score = api.score(y_pred, y_test)\n",
    "print(\"Accuracy score\", score)"
   ]
  },
  {
   "cell_type": "markdown",
   "metadata": {},
   "source": [
    "# Tabular Classificaton with Cifar10"
   ]
  },
  {
   "cell_type": "code",
   "execution_count": 9,
   "metadata": {
    "id": "jnrwweMV5Yjh"
   },
   "outputs": [],
   "source": [
    "from autoPyTorch.api.tabular_classification import TabularClassificationTask\n",
    "import pandas as pd\n",
    "# data and metric imports\n",
    "import sklearn.datasets\n",
    "import sklearn.metrics\n",
    "import numpy as np"
   ]
  },
  {
   "cell_type": "code",
   "execution_count": null,
   "metadata": {
    "id": "Yc8pM8psoM1C"
   },
   "outputs": [],
   "source": [
    "# Load CIFAR-10 dataset and convert labels to numerical values\n",
    "cifar10 = sklearn.datasets.fetch_openml('CIFAR_10_SMALL')\n",
    "X = cifar10['data']\n",
    "y_str = cifar10['target']\n",
    "y, classes = pd.factorize(y_str)"
   ]
  },
  {
   "cell_type": "code",
   "execution_count": null,
   "metadata": {
    "id": "XGVLzaJhoQWD"
   },
   "outputs": [],
   "source": [
    "# Split the dataset\n",
    "from sklearn.model_selection import train_test_split\n",
    "X_train, X_test, y_train, y_test = train_test_split(X, y, test_size=0.2, random_state=1)"
   ]
  },
  {
   "cell_type": "code",
   "execution_count": null,
   "metadata": {
    "id": "VZEP0tQvoTge"
   },
   "outputs": [],
   "source": [
    "# Initialize Auto-PyTorch api\n",
    "api = TabularClassificationTask()"
   ]
  },
  {
   "cell_type": "code",
   "execution_count": 38,
   "metadata": {
    "colab": {
     "base_uri": "https://localhost:8080/"
    },
    "id": "WxaOWuOW7cM7",
    "outputId": "7aaee8fa-0d25-40e5-d9e2-f1bb1dc1b65d"
   },
   "outputs": [
    {
     "name": "stdout",
     "output_type": "stream",
     "text": [
      "[ERROR] [2023-04-04 09:30:20,526:Client-AutoPyTorch:48915da4-d2cb-11ed-bb0a-0242ac1c000c:1] Prediction for lgb failed with run state StatusType.MEMOUT.\n",
      "Additional info:\n",
      "error: Memout (used more than 4096 MB).\n",
      "configuration_origin: traditional\n",
      "[ERROR] [2023-04-04 09:30:23,910:Client-AutoPyTorch:48915da4-d2cb-11ed-bb0a-0242ac1c000c:1] Prediction for catboost failed with run state StatusType.MEMOUT.\n",
      "Additional info:\n",
      "error: Memout (used more than 4096 MB).\n",
      "configuration_origin: traditional\n",
      "[ERROR] [2023-04-04 09:30:27,292:Client-AutoPyTorch:48915da4-d2cb-11ed-bb0a-0242ac1c000c:1] Prediction for random_forest failed with run state StatusType.MEMOUT.\n",
      "Additional info:\n",
      "error: Memout (used more than 4096 MB).\n",
      "configuration_origin: traditional\n",
      "[ERROR] [2023-04-04 09:30:31,131:Client-AutoPyTorch:48915da4-d2cb-11ed-bb0a-0242ac1c000c:1] Prediction for extra_trees failed with run state StatusType.MEMOUT.\n",
      "Additional info:\n",
      "error: Memout (used more than 4096 MB).\n",
      "configuration_origin: traditional\n",
      "[ERROR] [2023-04-04 09:30:34,487:Client-AutoPyTorch:48915da4-d2cb-11ed-bb0a-0242ac1c000c:1] Prediction for svm failed with run state StatusType.MEMOUT.\n",
      "Additional info:\n",
      "error: Memout (used more than 4096 MB).\n",
      "configuration_origin: traditional\n",
      "[ERROR] [2023-04-04 09:30:37,908:Client-AutoPyTorch:48915da4-d2cb-11ed-bb0a-0242ac1c000c:1] Prediction for knn failed with run state StatusType.MEMOUT.\n",
      "Additional info:\n",
      "error: Memout (used more than 4096 MB).\n",
      "configuration_origin: traditional\n"
     ]
    },
    {
     "name": "stderr",
     "output_type": "stream",
     "text": [
      "/usr/local/lib/python3.9/dist-packages/smac/intensification/parallel_scheduling.py:154: UserWarning: Hyperband is executed with 1 workers only. Consider to use pynisher to use all available workers.\n",
      "  warnings.warn(\n"
     ]
    },
    {
     "name": "stdout",
     "output_type": "stream",
     "text": [
      "Accuracy score {'accuracy': 0.0955}\n"
     ]
    }
   ],
   "source": [
    "# Search for an ensemble of machine learning algorithms\n",
    "api.search(\n",
    "    X_train=X_train,\n",
    "    y_train=y_train,\n",
    "    X_test=X_test,\n",
    "    y_test=y_test,\n",
    "    optimize_metric='accuracy',\n",
    "    total_walltime_limit=300,\n",
    "    func_eval_time_limit_secs=50\n",
    ")\n",
    "\n",
    "# Calculate test accuracy\n",
    "y_pred = api.predict(X_test)\n",
    "score = api.score(y_pred, y_test)\n",
    "print(\"Accuracy score\", score)\n"
   ]
  },
  {
   "cell_type": "code",
   "execution_count": 39,
   "metadata": {
    "colab": {
     "base_uri": "https://localhost:8080/"
    },
    "id": "vgks5RaSozOE",
    "outputId": "5674b6ad-66ca-42d6-80ca-83417784342f"
   },
   "outputs": [
    {
     "name": "stdout",
     "output_type": "stream",
     "text": [
      "{'accuracy': 0.0955}\n",
      "autoPyTorch results:\n",
      "\tDataset name: 48915da4-d2cb-11ed-bb0a-0242ac1c000c\n",
      "\tOptimisation Metric: accuracy\n",
      "\tNumber of target algorithm runs: 26\n",
      "\tNumber of successful target algorithm runs: 0\n",
      "\tNumber of crashed target algorithm runs: 0\n",
      "\tNumber of target algorithms that exceeded the time limit: 0\n",
      "\tNumber of target algorithms that exceeded the memory limit: 26\n",
      "\n"
     ]
    }
   ],
   "source": [
    "y_pred = api.predict(X_test)\n",
    "score = api.score(y_pred, y_test)\n",
    "print(score)\n",
    "\n",
    "# Print statistics from search\n",
    "print(api.sprint_statistics())"
   ]
  },
  {
   "cell_type": "markdown",
   "metadata": {},
   "source": [
    "# Tabular Classification of Wine Quality dataset"
   ]
  },
  {
   "cell_type": "code",
   "execution_count": 11,
   "metadata": {
    "id": "5daZIukY_x-6"
   },
   "outputs": [],
   "source": [
    "import sklearn.datasets\n",
    "import sklearn.model_selection\n",
    "from autoPyTorch.api.tabular_classification import TabularClassificationTask"
   ]
  },
  {
   "cell_type": "code",
   "execution_count": 12,
   "metadata": {
    "id": "FpUkEVIgBbMo"
   },
   "outputs": [],
   "source": [
    "X, y = sklearn.datasets.fetch_openml(data_id=40981, return_X_y=True, as_frame=True)\n",
    "X_train, X_test, y_train, y_test = sklearn.model_selection.train_test_split(\n",
    "    X,\n",
    "    y,\n",
    "    random_state=1,\n",
    ")"
   ]
  },
  {
   "cell_type": "code",
   "execution_count": 13,
   "metadata": {
    "id": "69xqctHUBelK"
   },
   "outputs": [],
   "source": [
    "api = TabularClassificationTask(\n",
    "    # To maintain logs of the run, you can uncomment the\n",
    "    # Following lines\n",
    "    # temporary_directory='./tmp/autoPyTorch_example_tmp_01',\n",
    "    # output_directory='./tmp/autoPyTorch_example_out_01',\n",
    "    # delete_tmp_folder_after_terminate=False,\n",
    "    # delete_output_folder_after_terminate=False,\n",
    "    seed=42,\n",
    ")"
   ]
  },
  {
   "cell_type": "code",
   "execution_count": 14,
   "metadata": {
    "colab": {
     "base_uri": "https://localhost:8080/"
    },
    "id": "80sSVI87BlJq",
    "outputId": "3a952c74-8f41-474c-cb9b-48713a3bb528"
   },
   "outputs": [
    {
     "name": "stdout",
     "output_type": "stream",
     "text": [
      "[ERROR] [2023-04-04 06:49:09,943:Client-AutoPyTorch:Australian:42] Prediction for catboost failed with run state StatusType.CRASHED,\n",
      "because the provided memory limits were too tight.\n",
      "Please increase the 'ml_memory_limit' and try again.\n",
      "If you still get the problem, please open an issue\n",
      "and paste the additional info.\n",
      "Additional info:\n",
      "error: Result queue is empty\n",
      "exit_status: <class 'pynisher.limit_function_call.AnythingException'>\n",
      "subprocess_stdout: \n",
      "subprocess_stderr: \n",
      "exitcode: -6\n",
      "configuration_origin: traditional\n"
     ]
    },
    {
     "name": "stderr",
     "output_type": "stream",
     "text": [
      "/usr/local/lib/python3.9/dist-packages/smac/intensification/parallel_scheduling.py:154: UserWarning: Hyperband is executed with 1 workers only. Consider to use pynisher to use all available workers.\n",
      "  warnings.warn(\n"
     ]
    },
    {
     "data": {
      "text/plain": [
       "<autoPyTorch.api.tabular_classification.TabularClassificationTask at 0x7f0e2a046be0>"
      ]
     },
     "execution_count": 14,
     "metadata": {},
     "output_type": "execute_result"
    }
   ],
   "source": [
    "api.search(\n",
    "    X_train=X_train,\n",
    "    y_train=y_train,\n",
    "    X_test=X_test.copy(),\n",
    "    y_test=y_test.copy(),\n",
    "    dataset_name='Australian',\n",
    "    optimize_metric='accuracy',\n",
    "    total_walltime_limit=300,\n",
    "    func_eval_time_limit_secs=50\n",
    ")"
   ]
  },
  {
   "cell_type": "code",
   "execution_count": 15,
   "metadata": {
    "colab": {
     "base_uri": "https://localhost:8080/"
    },
    "id": "58jBB7xBDNB9",
    "outputId": "efa7cc99-b713-4434-e9d5-5930faecf615"
   },
   "outputs": [
    {
     "name": "stdout",
     "output_type": "stream",
     "text": [
      "{'accuracy': 0.8728323699421965}\n",
      "autoPyTorch results:\n",
      "\tDataset name: Australian\n",
      "\tOptimisation Metric: accuracy\n",
      "\tBest validation score: 0.8538011695906432\n",
      "\tNumber of target algorithm runs: 21\n",
      "\tNumber of successful target algorithm runs: 20\n",
      "\tNumber of crashed target algorithm runs: 0\n",
      "\tNumber of target algorithms that exceeded the time limit: 1\n",
      "\tNumber of target algorithms that exceeded the memory limit: 0\n",
      "\n"
     ]
    }
   ],
   "source": [
    "y_pred = api.predict(X_test)\n",
    "score = api.score(y_pred, y_test)\n",
    "print(score)\n",
    "\n",
    "# Print statistics from search\n",
    "print(api.sprint_statistics())"
   ]
  },
  {
   "cell_type": "markdown",
   "metadata": {},
   "source": [
    "# Cifar10 classification with AutoNetImageClassification"
   ]
  },
  {
   "cell_type": "code",
   "execution_count": null,
   "metadata": {
    "colab": {
     "base_uri": "https://localhost:8080/",
     "height": 376
    },
    "id": "6EUjLU6ZJcNs",
    "outputId": "000be0f5-752b-44db-df5c-6e42a7188023"
   },
   "outputs": [],
   "source": [
    "import tensorflow as tf\n",
    "from autoPyTorch import AutoNetImageClassification\n",
    "\n",
    "# Load CIFAR-10 dataset\n",
    "(x_train, y_train), (x_test, y_test) = tf.keras.datasets.cifar10.load_data()\n",
    "\n",
    "# Normalize pixel values to be between 0 and 1\n",
    "x_train = x_train.astype('float32') / 255.0\n",
    "x_test = x_test.astype('float32') / 255.0\n",
    "\n",
    "# Create an instance of AutoNetImageClassification\n",
    "auto = AutoNetImageClassification(\n",
    "    seed=42,\n",
    "    max_runtime=3600,\n",
    "    min_budget=30,\n",
    "    max_budget=180,\n",
    "    log_level='info'\n",
    ")\n",
    "\n",
    "# Train and evaluate the model\n",
    "auto.fit(x_train, y_train, validation_split=0.2)\n",
    "score = auto.score(x_test, y_test)\n",
    "print('Test accuracy:', score)\n"
   ]
  },
  {
   "cell_type": "code",
   "execution_count": null,
   "metadata": {
    "id": "f2nTIUKVia_Y"
   },
   "outputs": [],
   "source": []
  }
 ],
 "metadata": {
  "colab": {
   "provenance": []
  },
  "gpuClass": "standard",
  "kernelspec": {
   "display_name": "Python 3 (ipykernel)",
   "language": "python",
   "name": "python3"
  },
  "language_info": {
   "codemirror_mode": {
    "name": "ipython",
    "version": 3
   },
   "file_extension": ".py",
   "mimetype": "text/x-python",
   "name": "python",
   "nbconvert_exporter": "python",
   "pygments_lexer": "ipython3",
   "version": "3.8.10"
  }
 },
 "nbformat": 4,
 "nbformat_minor": 1
}
